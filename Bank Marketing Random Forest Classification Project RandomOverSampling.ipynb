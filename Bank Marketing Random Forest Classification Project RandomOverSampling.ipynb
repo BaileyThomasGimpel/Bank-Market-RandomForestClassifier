{
 "cells": [
  {
   "cell_type": "code",
   "execution_count": 1,
   "id": "5d4a77ad",
   "metadata": {},
   "outputs": [],
   "source": [
    "import pandas as pd \n",
    "import numpy as np       \n",
    "import seaborn as sns \n",
    "import matplotlib.pylab as plt  \n",
    "from collections import Counter \n",
    "from imblearn.over_sampling import RandomOverSampler  \n",
    "from sklearn.preprocessing import LabelEncoder"
   ]
  },
  {
   "cell_type": "markdown",
   "id": "c65adf79",
   "metadata": {},
   "source": [
    "## Data Preprocessing"
   ]
  },
  {
   "cell_type": "code",
   "execution_count": 2,
   "id": "09d6ea17",
   "metadata": {},
   "outputs": [
    {
     "name": "stdout",
     "output_type": "stream",
     "text": [
      "(41188, 20)\n"
     ]
    },
    {
     "data": {
      "text/html": [
       "<div>\n",
       "<style scoped>\n",
       "    .dataframe tbody tr th:only-of-type {\n",
       "        vertical-align: middle;\n",
       "    }\n",
       "\n",
       "    .dataframe tbody tr th {\n",
       "        vertical-align: top;\n",
       "    }\n",
       "\n",
       "    .dataframe thead th {\n",
       "        text-align: right;\n",
       "    }\n",
       "</style>\n",
       "<table border=\"1\" class=\"dataframe\">\n",
       "  <thead>\n",
       "    <tr style=\"text-align: right;\">\n",
       "      <th></th>\n",
       "      <th>age</th>\n",
       "      <th>job</th>\n",
       "      <th>marital</th>\n",
       "      <th>education</th>\n",
       "      <th>default</th>\n",
       "      <th>housing</th>\n",
       "      <th>loan</th>\n",
       "      <th>contact</th>\n",
       "      <th>month</th>\n",
       "      <th>day_of_week</th>\n",
       "      <th>campaign</th>\n",
       "      <th>pdays</th>\n",
       "      <th>previous</th>\n",
       "      <th>poutcome</th>\n",
       "      <th>emp.var.rate</th>\n",
       "      <th>cons.price.idx</th>\n",
       "      <th>cons.conf.idx</th>\n",
       "      <th>euribor3m</th>\n",
       "      <th>nr.employed</th>\n",
       "      <th>y</th>\n",
       "    </tr>\n",
       "  </thead>\n",
       "  <tbody>\n",
       "    <tr>\n",
       "      <th>0</th>\n",
       "      <td>56</td>\n",
       "      <td>housemaid</td>\n",
       "      <td>married</td>\n",
       "      <td>basic.4y</td>\n",
       "      <td>no</td>\n",
       "      <td>no</td>\n",
       "      <td>no</td>\n",
       "      <td>telephone</td>\n",
       "      <td>may</td>\n",
       "      <td>mon</td>\n",
       "      <td>1</td>\n",
       "      <td>999</td>\n",
       "      <td>0</td>\n",
       "      <td>nonexistent</td>\n",
       "      <td>1.1</td>\n",
       "      <td>93.994</td>\n",
       "      <td>-36.4</td>\n",
       "      <td>4.857</td>\n",
       "      <td>5191.0</td>\n",
       "      <td>no</td>\n",
       "    </tr>\n",
       "    <tr>\n",
       "      <th>1</th>\n",
       "      <td>57</td>\n",
       "      <td>services</td>\n",
       "      <td>married</td>\n",
       "      <td>high.school</td>\n",
       "      <td>unknown</td>\n",
       "      <td>no</td>\n",
       "      <td>no</td>\n",
       "      <td>telephone</td>\n",
       "      <td>may</td>\n",
       "      <td>mon</td>\n",
       "      <td>1</td>\n",
       "      <td>999</td>\n",
       "      <td>0</td>\n",
       "      <td>nonexistent</td>\n",
       "      <td>1.1</td>\n",
       "      <td>93.994</td>\n",
       "      <td>-36.4</td>\n",
       "      <td>4.857</td>\n",
       "      <td>5191.0</td>\n",
       "      <td>no</td>\n",
       "    </tr>\n",
       "    <tr>\n",
       "      <th>2</th>\n",
       "      <td>37</td>\n",
       "      <td>services</td>\n",
       "      <td>married</td>\n",
       "      <td>high.school</td>\n",
       "      <td>no</td>\n",
       "      <td>yes</td>\n",
       "      <td>no</td>\n",
       "      <td>telephone</td>\n",
       "      <td>may</td>\n",
       "      <td>mon</td>\n",
       "      <td>1</td>\n",
       "      <td>999</td>\n",
       "      <td>0</td>\n",
       "      <td>nonexistent</td>\n",
       "      <td>1.1</td>\n",
       "      <td>93.994</td>\n",
       "      <td>-36.4</td>\n",
       "      <td>4.857</td>\n",
       "      <td>5191.0</td>\n",
       "      <td>no</td>\n",
       "    </tr>\n",
       "    <tr>\n",
       "      <th>3</th>\n",
       "      <td>40</td>\n",
       "      <td>admin.</td>\n",
       "      <td>married</td>\n",
       "      <td>basic.6y</td>\n",
       "      <td>no</td>\n",
       "      <td>no</td>\n",
       "      <td>no</td>\n",
       "      <td>telephone</td>\n",
       "      <td>may</td>\n",
       "      <td>mon</td>\n",
       "      <td>1</td>\n",
       "      <td>999</td>\n",
       "      <td>0</td>\n",
       "      <td>nonexistent</td>\n",
       "      <td>1.1</td>\n",
       "      <td>93.994</td>\n",
       "      <td>-36.4</td>\n",
       "      <td>4.857</td>\n",
       "      <td>5191.0</td>\n",
       "      <td>no</td>\n",
       "    </tr>\n",
       "    <tr>\n",
       "      <th>4</th>\n",
       "      <td>56</td>\n",
       "      <td>services</td>\n",
       "      <td>married</td>\n",
       "      <td>high.school</td>\n",
       "      <td>no</td>\n",
       "      <td>no</td>\n",
       "      <td>yes</td>\n",
       "      <td>telephone</td>\n",
       "      <td>may</td>\n",
       "      <td>mon</td>\n",
       "      <td>1</td>\n",
       "      <td>999</td>\n",
       "      <td>0</td>\n",
       "      <td>nonexistent</td>\n",
       "      <td>1.1</td>\n",
       "      <td>93.994</td>\n",
       "      <td>-36.4</td>\n",
       "      <td>4.857</td>\n",
       "      <td>5191.0</td>\n",
       "      <td>no</td>\n",
       "    </tr>\n",
       "  </tbody>\n",
       "</table>\n",
       "</div>"
      ],
      "text/plain": [
       "   age        job  marital    education  default housing loan    contact  \\\n",
       "0   56  housemaid  married     basic.4y       no      no   no  telephone   \n",
       "1   57   services  married  high.school  unknown      no   no  telephone   \n",
       "2   37   services  married  high.school       no     yes   no  telephone   \n",
       "3   40     admin.  married     basic.6y       no      no   no  telephone   \n",
       "4   56   services  married  high.school       no      no  yes  telephone   \n",
       "\n",
       "  month day_of_week  campaign  pdays  previous     poutcome  emp.var.rate  \\\n",
       "0   may         mon         1    999         0  nonexistent           1.1   \n",
       "1   may         mon         1    999         0  nonexistent           1.1   \n",
       "2   may         mon         1    999         0  nonexistent           1.1   \n",
       "3   may         mon         1    999         0  nonexistent           1.1   \n",
       "4   may         mon         1    999         0  nonexistent           1.1   \n",
       "\n",
       "   cons.price.idx  cons.conf.idx  euribor3m  nr.employed   y  \n",
       "0          93.994          -36.4      4.857       5191.0  no  \n",
       "1          93.994          -36.4      4.857       5191.0  no  \n",
       "2          93.994          -36.4      4.857       5191.0  no  \n",
       "3          93.994          -36.4      4.857       5191.0  no  \n",
       "4          93.994          -36.4      4.857       5191.0  no  "
      ]
     },
     "execution_count": 2,
     "metadata": {},
     "output_type": "execute_result"
    }
   ],
   "source": [
    "df = pd.read_csv('bank-direct-marketing-campaigns.csv') \n",
    "print(df.shape)  \n",
    "df.head()"
   ]
  },
  {
   "cell_type": "code",
   "execution_count": 3,
   "id": "ddfd2bcc",
   "metadata": {},
   "outputs": [],
   "source": [
    "df2 = df.drop(columns = ['pdays','day_of_week','campaign','previous','poutcome','pdays','contact','month'],axis=1) \n",
    "\n",
    "columns_to_filter = ['job', 'marital', 'education', 'default', 'housing', 'loan']\n",
    "\n",
    "# Apply filtering using a for loop\n",
    "df_filtered = df2.copy()\n",
    "for column in columns_to_filter:\n",
    "    df_filtered = df_filtered[df_filtered[column] != 'unknown']\n",
    "\n",
    "# Print the resulting dataframe\n",
    "df3 = pd.DataFrame(df_filtered)"
   ]
  },
  {
   "cell_type": "code",
   "execution_count": 4,
   "id": "46149424",
   "metadata": {},
   "outputs": [],
   "source": [
    "binary_encode = {'yes': 1, 'no': 0}\n",
    "df3['y'] = df3['y'].map(binary_encode) \n",
    "df3['default'] = df3['default'].map(binary_encode) \n",
    "df3['housing'] = df3['housing'].map(binary_encode) \n",
    "df3['loan'] = df3['loan'].map(binary_encode)"
   ]
  },
  {
   "cell_type": "markdown",
   "id": "98e56308",
   "metadata": {},
   "source": [
    "## Finding the Optimal Rankings to Ordinally Encode Categorical Features"
   ]
  },
  {
   "cell_type": "code",
   "execution_count": 5,
   "id": "ecb5ef05",
   "metadata": {},
   "outputs": [],
   "source": [
    "education_encoder = {'basic.4y':2, 'high.school':5, 'basic.6y':3, 'professional.course':6,\n",
    "       'basic.9y':4, 'university.degree':7, 'illiterate':1}  \n",
    "\n",
    "df3['education'] = df3['education'].map(education_encoder) "
   ]
  },
  {
   "cell_type": "code",
   "execution_count": 6,
   "id": "1942cc2a",
   "metadata": {},
   "outputs": [],
   "source": [
    "job_encoder = {'housemaid':1, 'services':6, 'admin.':11, 'technician':10, 'blue-collar':9,\n",
    "       'unemployed':3, 'retired':8, 'entrepreneur':2, 'management':7, 'student':5,\n",
    "       'self-employed':4}  \n",
    "\n",
    "df3['job'] = df3['job'].map(job_encoder) "
   ]
  },
  {
   "cell_type": "code",
   "execution_count": 7,
   "id": "d8b9a330",
   "metadata": {},
   "outputs": [],
   "source": [
    "marital_encoder = {'divorced':1,'single':2,'married':3} \n",
    "df3['marital'] = df3['marital'].map(marital_encoder)"
   ]
  },
  {
   "cell_type": "markdown",
   "id": "1e779be9",
   "metadata": {},
   "source": [
    "## RandomOverSampling"
   ]
  },
  {
   "cell_type": "code",
   "execution_count": 8,
   "id": "02d809c7",
   "metadata": {},
   "outputs": [],
   "source": [
    "#separating the X and the Y values\n",
    "X = df3.drop(['y'], axis = 1) \n",
    "Y = df3[\"y\"]    \n",
    "\n",
    "# getting just the values for the sake of processing  \n",
    "# (its a numpy array with no columns) \n",
    "xData = X.values \n",
    "yData = Y.values "
   ]
  },
  {
   "cell_type": "code",
   "execution_count": 9,
   "id": "554b27f8",
   "metadata": {},
   "outputs": [
    {
     "name": "stdout",
     "output_type": "stream",
     "text": [
      " New 'x' has (47932, 12)         New 'Y' has (47932,)\n",
      "Original dataset shape Counter({0: 26629, 1: 3859})\n",
      "Resampled dataset shape Counter({0: 26629, 1: 21303})\n"
     ]
    }
   ],
   "source": [
    "os =  RandomOverSampler(sampling_strategy = 0.8)\n",
    "X_train_res, y_train_res = os.fit_resample(xData, yData)\n",
    "print(\" New 'x' has\",X_train_res.shape,\"        New 'Y' has\",y_train_res.shape)\n",
    "print('Original dataset shape {}'.format(Counter(yData)))\n",
    "print('Resampled dataset shape {}'.format(Counter(y_train_res)))   "
   ]
  },
  {
   "cell_type": "markdown",
   "id": "d74fc8ae",
   "metadata": {},
   "source": [
    "## Random Forest Classifier using RandomOverSampling"
   ]
  },
  {
   "cell_type": "code",
   "execution_count": 11,
   "id": "3ebbdd0d",
   "metadata": {},
   "outputs": [],
   "source": [
    "from sklearn.model_selection import train_test_split, cross_val_score\n",
    "from sklearn.ensemble import RandomForestClassifier \n",
    "from sklearn.metrics import roc_auc_score, accuracy_score, confusion_matrix  "
   ]
  },
  {
   "cell_type": "code",
   "execution_count": 12,
   "id": "407ba288",
   "metadata": {},
   "outputs": [],
   "source": [
    "X_train, X_test, y_train, y_test = train_test_split(X_train_res,y_train_res, test_size=0.2, random_state=42)"
   ]
  },
  {
   "cell_type": "code",
   "execution_count": 13,
   "id": "1434daae",
   "metadata": {},
   "outputs": [
    {
     "data": {
      "text/plain": [
       "RandomForestClassifier()"
      ]
     },
     "execution_count": 13,
     "metadata": {},
     "output_type": "execute_result"
    }
   ],
   "source": [
    "model = RandomForestClassifier() \n",
    "model.fit(X_train,y_train)"
   ]
  },
  {
   "cell_type": "code",
   "execution_count": 14,
   "id": "f98d6bc9",
   "metadata": {},
   "outputs": [],
   "source": [
    "y_pred = model.predict(X_test)"
   ]
  },
  {
   "cell_type": "markdown",
   "id": "2bf3c689",
   "metadata": {},
   "source": [
    "## Model Evaluation"
   ]
  },
  {
   "cell_type": "code",
   "execution_count": 15,
   "id": "985953c4",
   "metadata": {},
   "outputs": [
    {
     "name": "stdout",
     "output_type": "stream",
     "text": [
      "              precision    recall  f1-score   support\n",
      "\n",
      "           0       0.98      0.88      0.93      5308\n",
      "           1       0.87      0.98      0.92      4279\n",
      "\n",
      "    accuracy                           0.93      9587\n",
      "   macro avg       0.93      0.93      0.93      9587\n",
      "weighted avg       0.93      0.93      0.93      9587\n",
      "\n"
     ]
    }
   ],
   "source": [
    "from sklearn.metrics import classification_report, confusion_matrix \n",
    "print(classification_report(y_test,y_pred))"
   ]
  },
  {
   "cell_type": "code",
   "execution_count": 18,
   "id": "e5fe0c56",
   "metadata": {},
   "outputs": [
    {
     "name": "stdout",
     "output_type": "stream",
     "text": [
      "Cross-validation Scores: [0.91890482 0.92333768 0.92568449 0.92151239 0.93116037 0.92723005\n",
      " 0.92801252 0.9246218  0.92357851 0.92279604]\n",
      "Mean Cross-validation Score: 92.47%\n"
     ]
    }
   ],
   "source": [
    "cv_scores = cross_val_score(model, X_train, y_train, cv=10) \n",
    "print(\"Cross-validation Scores:\", cv_scores)\n",
    "print(\"Mean Cross-validation Score: {:.2f}%\".format(cv_scores.mean()*100))"
   ]
  },
  {
   "cell_type": "code",
   "execution_count": 17,
   "id": "c3dada04",
   "metadata": {},
   "outputs": [
    {
     "data": {
      "text/plain": [
       "0.9321816531656943"
      ]
     },
     "execution_count": 17,
     "metadata": {},
     "output_type": "execute_result"
    }
   ],
   "source": [
    "roc_auc_score(y_test,y_pred)  "
   ]
  },
  {
   "cell_type": "code",
   "execution_count": 19,
   "id": "788478fe",
   "metadata": {},
   "outputs": [
    {
     "data": {
      "image/png": "[encoded data removed]",
      "text/plain": [
       "<Figure size 1600x700 with 2 Axes>"
      ]
     },
     "metadata": {},
     "output_type": "display_data"
    }
   ],
   "source": [
    "# Get and reshape confusion matrix data\n",
    "matrix = confusion_matrix(y_test, y_pred)\n",
    "matrix = matrix.astype('float') / matrix.sum(axis=1)[:, np.newaxis]\n",
    "\n",
    "# Build the plot\n",
    "plt.figure(figsize=(16,7))\n",
    "sns.set(font_scale=1.4)\n",
    "sns.heatmap(matrix, annot=True, annot_kws={'size':10},\n",
    "            cmap=plt.cm.Greens, linewidths=0.2)\n",
    "\n",
    "# Add labels to the plot\n",
    "class_names = [\"No Term Deposit\",\"Yes Term Deposit\"]\n",
    "tick_marks = np.arange(len(class_names))\n",
    "tick_marks2 = tick_marks + 0.5\n",
    "plt.xticks(tick_marks, class_names, rotation=25)\n",
    "plt.yticks(tick_marks2, class_names, rotation=0)\n",
    "plt.xlabel('Predicted label')\n",
    "plt.ylabel('True label')\n",
    "plt.title('Confusion Matrix for Random Forest Model')\n",
    "plt.show()"
   ]
  },
  {
   "cell_type": "code",
   "execution_count": 20,
   "id": "f2f42a81",
   "metadata": {},
   "outputs": [
    {
     "name": "stdout",
     "output_type": "stream",
     "text": [
      " The importance of feature 'age' is 26.31%\n",
      " The importance of feature 'job' is 9.66%\n",
      " The importance of feature 'marital' is 3.85%\n",
      " The importance of feature 'education' is 7.28%\n",
      " The importance of feature 'default' is 0.0%\n",
      " The importance of feature 'housing' is 3.29%\n",
      " The importance of feature 'loan' is 2.3%\n",
      " The importance of feature 'emp.var.rate' is 4.6%\n",
      " The importance of feature 'cons.price.idx' is 3.0%\n",
      " The importance of feature 'cons.conf.idx' is 4.69%\n",
      " The importance of feature 'euribor3m' is 23.44%\n",
      " The importance of feature 'nr.employed' is 11.58%\n"
     ]
    }
   ],
   "source": [
    "importances = model.feature_importances_\n",
    "columns = X.columns\n",
    "\n",
    "i=0\n",
    "\n",
    "while i < len(columns):\n",
    "    print(f\" The importance of feature '{columns[i]}' is {round(importances[i]*100, 2)}%\")\n",
    "    i +=1"
   ]
  },
  {
   "cell_type": "code",
   "execution_count": null,
   "id": "350f8d92",
   "metadata": {},
   "outputs": [],
   "source": []
  }
 ],
 "metadata": {
  "kernelspec": {
   "display_name": "Python 3 (ipykernel)",
   "language": "python",
   "name": "python3"
  },
  "language_info": {
   "codemirror_mode": {
    "name": "ipython",
    "version": 3
   },
   "file_extension": ".py",
   "mimetype": "text/x-python",
   "name": "python",
   "nbconvert_exporter": "python",
   "pygments_lexer": "ipython3",
   "version": "3.8.15"
  }
 },
 "nbformat": 4,
 "nbformat_minor": 5
}
